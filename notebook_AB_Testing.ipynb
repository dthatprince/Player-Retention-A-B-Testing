{
 "cells": [
  {
   "cell_type": "code",
   "execution_count": null,
   "id": "1e64d25a",
   "metadata": {},
   "outputs": [],
   "source": []
  },
  {
   "cell_type": "code",
   "execution_count": null,
   "id": "55d5df08",
   "metadata": {},
   "outputs": [],
   "source": []
  },
  {
   "cell_type": "code",
   "execution_count": null,
   "id": "67ebc2be",
   "metadata": {},
   "outputs": [],
   "source": []
  },
  {
   "cell_type": "markdown",
   "id": "01b869bd",
   "metadata": {},
   "source": [
    "## Data Description"
   ]
  },
  {
   "cell_type": "markdown",
   "id": "6a3439d4",
   "metadata": {},
   "source": [
    "The data is from 90,189 players that installed the game while the AB-test was running. \n",
    "\n",
    "The variables are:\n",
    "\n",
    "- userid - a unique number that identifies each player.\n",
    "\n",
    "- version - whether the player was put in the control group (gate_30 - a gate at level 30) or the test group (gate_40 - a gate at level 40).\n",
    "\n",
    "- sum_gamerounds - the number of game rounds played by the player during the first week after installation\n",
    "\n",
    "- retention_1 - did the player come back and play 1 day after installing?\n",
    "\n",
    "- retention_7 - did the player come back and play 7 days after installing?\n",
    "\n",
    "\n",
    "When a player installed the game, he or she was randomly assigned to either gate_30 or gate_40."
   ]
  },
  {
   "cell_type": "code",
   "execution_count": 2,
   "id": "e9239d8a",
   "metadata": {},
   "outputs": [],
   "source": [
    "# importing libraries\n",
    "import pandas as pd\n",
    "import numpy as np\n",
    "import matplotlib.pyplot as plt\n",
    "import seaborn as sns"
   ]
  },
  {
   "cell_type": "markdown",
   "id": "79324cb2",
   "metadata": {},
   "source": [
    "## Reading Data"
   ]
  },
  {
   "cell_type": "code",
   "execution_count": 14,
   "id": "8e71fecb",
   "metadata": {},
   "outputs": [
    {
     "data": {
      "text/html": [
       "<div>\n",
       "<style scoped>\n",
       "    .dataframe tbody tr th:only-of-type {\n",
       "        vertical-align: middle;\n",
       "    }\n",
       "\n",
       "    .dataframe tbody tr th {\n",
       "        vertical-align: top;\n",
       "    }\n",
       "\n",
       "    .dataframe thead th {\n",
       "        text-align: right;\n",
       "    }\n",
       "</style>\n",
       "<table border=\"1\" class=\"dataframe\">\n",
       "  <thead>\n",
       "    <tr style=\"text-align: right;\">\n",
       "      <th></th>\n",
       "      <th>userid</th>\n",
       "      <th>version</th>\n",
       "      <th>sum_gamerounds</th>\n",
       "      <th>retention_1</th>\n",
       "      <th>retention_7</th>\n",
       "    </tr>\n",
       "  </thead>\n",
       "  <tbody>\n",
       "    <tr>\n",
       "      <th>0</th>\n",
       "      <td>116</td>\n",
       "      <td>gate_30</td>\n",
       "      <td>3</td>\n",
       "      <td>False</td>\n",
       "      <td>False</td>\n",
       "    </tr>\n",
       "    <tr>\n",
       "      <th>1</th>\n",
       "      <td>337</td>\n",
       "      <td>gate_30</td>\n",
       "      <td>38</td>\n",
       "      <td>True</td>\n",
       "      <td>False</td>\n",
       "    </tr>\n",
       "    <tr>\n",
       "      <th>2</th>\n",
       "      <td>377</td>\n",
       "      <td>gate_40</td>\n",
       "      <td>165</td>\n",
       "      <td>True</td>\n",
       "      <td>False</td>\n",
       "    </tr>\n",
       "    <tr>\n",
       "      <th>3</th>\n",
       "      <td>483</td>\n",
       "      <td>gate_40</td>\n",
       "      <td>1</td>\n",
       "      <td>False</td>\n",
       "      <td>False</td>\n",
       "    </tr>\n",
       "    <tr>\n",
       "      <th>4</th>\n",
       "      <td>488</td>\n",
       "      <td>gate_40</td>\n",
       "      <td>179</td>\n",
       "      <td>True</td>\n",
       "      <td>True</td>\n",
       "    </tr>\n",
       "  </tbody>\n",
       "</table>\n",
       "</div>"
      ],
      "text/plain": [
       "   userid  version  sum_gamerounds  retention_1  retention_7\n",
       "0     116  gate_30               3        False        False\n",
       "1     337  gate_30              38         True        False\n",
       "2     377  gate_40             165         True        False\n",
       "3     483  gate_40               1        False        False\n",
       "4     488  gate_40             179         True         True"
      ]
     },
     "execution_count": 14,
     "metadata": {},
     "output_type": "execute_result"
    }
   ],
   "source": [
    "# loading the data set\n",
    "df = pd.read_csv(\"cookie_cats.csv\")\n",
    "\n",
    "# Showing the first five rows\n",
    "df.head()"
   ]
  },
  {
   "cell_type": "code",
   "execution_count": 4,
   "id": "d87fd4ff",
   "metadata": {},
   "outputs": [
    {
     "data": {
      "text/plain": [
       "(90189, 5)"
      ]
     },
     "execution_count": 4,
     "metadata": {},
     "output_type": "execute_result"
    }
   ],
   "source": [
    "df.shape"
   ]
  },
  {
   "cell_type": "code",
   "execution_count": 5,
   "id": "6ac4bb03",
   "metadata": {},
   "outputs": [
    {
     "name": "stdout",
     "output_type": "stream",
     "text": [
      "<class 'pandas.core.frame.DataFrame'>\n",
      "RangeIndex: 90189 entries, 0 to 90188\n",
      "Data columns (total 5 columns):\n",
      " #   Column          Non-Null Count  Dtype \n",
      "---  ------          --------------  ----- \n",
      " 0   userid          90189 non-null  int64 \n",
      " 1   version         90189 non-null  object\n",
      " 2   sum_gamerounds  90189 non-null  int64 \n",
      " 3   retention_1     90189 non-null  bool  \n",
      " 4   retention_7     90189 non-null  bool  \n",
      "dtypes: bool(2), int64(2), object(1)\n",
      "memory usage: 2.2+ MB\n"
     ]
    }
   ],
   "source": [
    "# checking for missing data\n",
    "df.info()"
   ]
  },
  {
   "cell_type": "markdown",
   "id": "636a3b51",
   "metadata": {},
   "source": [
    "## Descriptive Statistics"
   ]
  },
  {
   "cell_type": "code",
   "execution_count": 7,
   "id": "ec28d0df",
   "metadata": {},
   "outputs": [
    {
     "data": {
      "text/plain": [
       "90189"
      ]
     },
     "execution_count": 7,
     "metadata": {},
     "output_type": "execute_result"
    }
   ],
   "source": [
    "# Number of unique players\n",
    "df[\"userid\"].nunique()"
   ]
  },
  {
   "cell_type": "markdown",
   "id": "a673cc29",
   "metadata": {},
   "source": [
    "We have a total of 90,189 uniques players"
   ]
  },
  {
   "cell_type": "code",
   "execution_count": 8,
   "id": "ebfec7e7",
   "metadata": {},
   "outputs": [
    {
     "data": {
      "text/html": [
       "<div>\n",
       "<style scoped>\n",
       "    .dataframe tbody tr th:only-of-type {\n",
       "        vertical-align: middle;\n",
       "    }\n",
       "\n",
       "    .dataframe tbody tr th {\n",
       "        vertical-align: top;\n",
       "    }\n",
       "\n",
       "    .dataframe thead th {\n",
       "        text-align: right;\n",
       "    }\n",
       "</style>\n",
       "<table border=\"1\" class=\"dataframe\">\n",
       "  <thead>\n",
       "    <tr style=\"text-align: right;\">\n",
       "      <th></th>\n",
       "      <th>userid</th>\n",
       "    </tr>\n",
       "    <tr>\n",
       "      <th>version</th>\n",
       "      <th></th>\n",
       "    </tr>\n",
       "  </thead>\n",
       "  <tbody>\n",
       "    <tr>\n",
       "      <th>gate_30</th>\n",
       "      <td>44700</td>\n",
       "    </tr>\n",
       "    <tr>\n",
       "      <th>gate_40</th>\n",
       "      <td>45489</td>\n",
       "    </tr>\n",
       "  </tbody>\n",
       "</table>\n",
       "</div>"
      ],
      "text/plain": [
       "         userid\n",
       "version        \n",
       "gate_30   44700\n",
       "gate_40   45489"
      ]
     },
     "execution_count": 8,
     "metadata": {},
     "output_type": "execute_result"
    }
   ],
   "source": [
    "# Counting the number of players for each A/B group.\n",
    "df.groupby(\"version\")[[\"userid\"]].nunique()"
   ]
  },
  {
   "cell_type": "markdown",
   "id": "4ab89401",
   "metadata": {},
   "source": [
    "Almost the same number of players in each group.\n",
    "\n",
    "Our focus will be on investigating how the gate placement affects player retention.\n",
    "\n",
    "Let's plot the distribution of the number of game rounds players played during their first week playing the game."
   ]
  },
  {
   "cell_type": "code",
   "execution_count": 9,
   "id": "eb954a94",
   "metadata": {},
   "outputs": [
    {
     "data": {
      "text/plain": [
       "sum_gamerounds\n",
       "0        3994\n",
       "1        5538\n",
       "2        4606\n",
       "3        3958\n",
       "4        3629\n",
       "         ... \n",
       "2294        1\n",
       "2438        1\n",
       "2640        1\n",
       "2961        1\n",
       "49854       1\n",
       "Name: userid, Length: 942, dtype: int64"
      ]
     },
     "execution_count": 9,
     "metadata": {},
     "output_type": "execute_result"
    }
   ],
   "source": [
    "# The distribution of game rounds\n",
    "#The number of players that played 0-100 game rounds during the first week\n",
    "# Counting the number of players for each number of gamerounds \n",
    "plot_df = df.groupby(\"sum_gamerounds\")[\"userid\"].count()\n",
    "\n",
    "#pd.set_option('display.max_rows', None)\n",
    "plot_df"
   ]
  },
  {
   "cell_type": "markdown",
   "id": "f69edde9",
   "metadata": {},
   "source": [
    "Half of the players played less than 16 game rounds within the first week after installing the game, and 75% played fewer than 51 rounds. Additionally, around 4000 players didn't even play a single round after installing. There could be several reasons for this:\n",
    "\n",
    "- Some players may have downloaded multiple games simultaneously and got drawn to other games, diverting their attention from this one.\n",
    "\n",
    "- Certain players may have opened the app but didn't find the design, interface, or music appealing, leading them to quit before even trying the game.\n",
    "\n",
    "- Some players might not have started playing the game yet, possibly due to various reasons.\n",
    "\n",
    "\n",
    "Another notable figure is that over 14,000 players played less than three rounds. Possible reasons for their early departure from the game could include:\n",
    "\n",
    "- They simply didn't enjoy the game, which is likely the most common reason.\n",
    "- The game didn't meet their expectations, possibly differing from what they anticipated.\n",
    "- The game may have been too easy, causing them to quickly lose interest and become bored.\n",
    "\n",
    "Understanding why a significant number of players abandon the game early on is crucial. Tactile Entertainment could consider gathering player feedback, such as through an in-app survey, to gain insights into their experiences and reasons for leaving."
   ]
  },
  {
   "cell_type": "code",
   "execution_count": 13,
   "id": "ccc5b57a",
   "metadata": {},
   "outputs": [
    {
     "data": {
      "image/png": "[encoded data removed]",
      "text/plain": [
       "<Figure size 1080x576 with 1 Axes>"
      ]
     },
     "metadata": {
      "needs_background": "light"
     },
     "output_type": "display_data"
    }
   ],
   "source": [
    "# Plotting the distribution of players that played 0 to 100 game rounds\n",
    "ax = plot_df.head(100).plot(figsize=(15,8))\n",
    "\n",
    "plt.title(\"The distribution of players\", size=10)\n",
    "plt.xlabel(\"total gamerounds\", size=10)\n",
    "plt.ylabel(\"number of player\", size=10)\n",
    "plt.show()"
   ]
  },
  {
   "cell_type": "markdown",
   "id": "2c3a3700",
   "metadata": {},
   "source": [
    "In the plot above we can see that some players install the game but then never play it (0 game rounds).  \n",
    "\n",
    "A huge number of players played fewer than 20 rounds and left the game. For rounds greater than 60, the number of players stayed steady at about 300.\n",
    "\n",
    "Let's find there are how many of them.\n",
    "\n"
   ]
  },
  {
   "cell_type": "code",
   "execution_count": 15,
   "id": "eab20ce2",
   "metadata": {},
   "outputs": [
    {
     "data": {
      "text/plain": [
       "3994"
      ]
     },
     "execution_count": 15,
     "metadata": {},
     "output_type": "execute_result"
    }
   ],
   "source": [
    "df[df[\"sum_gamerounds\"]== 0][\"userid\"].count()"
   ]
  },
  {
   "cell_type": "markdown",
   "id": "88d321f5",
   "metadata": {},
   "source": [
    "\n",
    "3994 players never played the game, just installed it.\n",
    "\n",
    "A common metric in the video gaming industry for how fun and engaging a game is **retention**: Which is the percentage of players that come back and play the game 1-day and 7-days after they have installed it. The higher retention is, the easier it is to retain players and build a large user/player base.\n",
    "\n",
    "For this, let's look at what 1-day and 7-days retentions are overall."
   ]
  },
  {
   "cell_type": "code",
   "execution_count": 47,
   "id": "b8c2ddb0",
   "metadata": {},
   "outputs": [
    {
     "data": {
      "text/plain": [
       "<AxesSubplot:>"
      ]
     },
     "execution_count": 47,
     "metadata": {},
     "output_type": "execute_result"
    },
    {
     "data": {
      "image/png": "[encoded data removed]",
      "text/plain": [
       "<Figure size 360x720 with 1 Axes>"
      ]
     },
     "metadata": {
      "needs_background": "light"
     },
     "output_type": "display_data"
    }
   ],
   "source": [
    "df['sum_gamerounds'].plot.box(figsize=(5,10))"
   ]
  },
  {
   "cell_type": "markdown",
   "id": "f7c357c0",
   "metadata": {},
   "source": [
    "This shows an outlier. \n",
    "\n",
    "A player played close to 50,000 game rounds during the first week of installation.\n",
    "\n",
    "To learn about the behavior of the majority of the players, we will check the percentiles since due to the outlier, this boxplot is lacking substantial information."
   ]
  },
  {
   "cell_type": "code",
   "execution_count": 16,
   "id": "fa51d558",
   "metadata": {},
   "outputs": [
    {
     "data": {
      "text/plain": [
       "count    90189.000000\n",
       "mean        51.872457\n",
       "std        195.050858\n",
       "min          0.000000\n",
       "25%          5.000000\n",
       "50%         16.000000\n",
       "75%         51.000000\n",
       "max      49854.000000\n",
       "Name: sum_gamerounds, dtype: float64"
      ]
     },
     "execution_count": 16,
     "metadata": {},
     "output_type": "execute_result"
    }
   ],
   "source": [
    "df['sum_gamerounds'].describe()"
   ]
  },
  {
   "cell_type": "markdown",
   "id": "594f77c1",
   "metadata": {},
   "source": [
    "    "
   ]
  },
  {
   "cell_type": "code",
   "execution_count": 17,
   "id": "bce6daa4",
   "metadata": {},
   "outputs": [
    {
     "name": "stdout",
     "output_type": "stream",
     "text": [
      "1-day retention ratio: 44.52%       \n",
      "7-days retention ratio: 18.61%\n"
     ]
    }
   ],
   "source": [
    "df_retention = df[[\"retention_1\",\"retention_7\"]].mean()*100\n",
    "\n",
    "print(f\"1-day retention ratio: {round(df_retention[0],2)}% \\\n",
    "      \\n7-days retention ratio: {round(df_retention[1],2)}%\")"
   ]
  },
  {
   "cell_type": "markdown",
   "id": "29214056",
   "metadata": {},
   "source": [
    "Approximately less than half of the players return to the game one day after installation, while 18 percent of the players come back after seven days of installing the game.\n",
    "\n",
    "Now that we have established a baseline, let's examine the disparity in retention rates between the two A/B groups."
   ]
  },
  {
   "cell_type": "code",
   "execution_count": 50,
   "id": "42348b3a",
   "metadata": {},
   "outputs": [
    {
     "data": {
      "text/html": [
       "<div>\n",
       "<style scoped>\n",
       "    .dataframe tbody tr th:only-of-type {\n",
       "        vertical-align: middle;\n",
       "    }\n",
       "\n",
       "    .dataframe tbody tr th {\n",
       "        vertical-align: top;\n",
       "    }\n",
       "\n",
       "    .dataframe thead th {\n",
       "        text-align: right;\n",
       "    }\n",
       "</style>\n",
       "<table border=\"1\" class=\"dataframe\">\n",
       "  <thead>\n",
       "    <tr style=\"text-align: right;\">\n",
       "      <th></th>\n",
       "      <th>userid</th>\n",
       "      <th>retention_1</th>\n",
       "      <th>retention_7</th>\n",
       "      <th>sum_gamerounds</th>\n",
       "    </tr>\n",
       "    <tr>\n",
       "      <th>version</th>\n",
       "      <th></th>\n",
       "      <th></th>\n",
       "      <th></th>\n",
       "      <th></th>\n",
       "    </tr>\n",
       "  </thead>\n",
       "  <tbody>\n",
       "    <tr>\n",
       "      <th>gate_30</th>\n",
       "      <td>44700</td>\n",
       "      <td>0.448188</td>\n",
       "      <td>0.190201</td>\n",
       "      <td>2344795</td>\n",
       "    </tr>\n",
       "    <tr>\n",
       "      <th>gate_40</th>\n",
       "      <td>45489</td>\n",
       "      <td>0.442283</td>\n",
       "      <td>0.182000</td>\n",
       "      <td>2333530</td>\n",
       "    </tr>\n",
       "  </tbody>\n",
       "</table>\n",
       "</div>"
      ],
      "text/plain": [
       "         userid  retention_1  retention_7  sum_gamerounds\n",
       "version                                                  \n",
       "gate_30   44700     0.448188     0.190201         2344795\n",
       "gate_40   45489     0.442283     0.182000         2333530"
      ]
     },
     "execution_count": 50,
     "metadata": {},
     "output_type": "execute_result"
    }
   ],
   "source": [
    "# Calculating 1-day and 7-days retention for each A/B group\n",
    "df_retention_ab = df.groupby(\"version\").agg({\"userid\":\"count\", \"retention_1\":\"mean\",\"retention_7\":\"mean\",\n",
    "                                             \"sum_gamerounds\":\"sum\"})\n",
    "\n",
    "df_retention_ab"
   ]
  },
  {
   "cell_type": "markdown",
   "id": "c6a3f89b",
   "metadata": {},
   "source": [
    "- There was a slight decrease in 1-day retention when the gate was moved to level 40 (44.2%) compared to the control group when it was at level 30 (44.8%).\n",
    "\n",
    "- Again,a decrease in 7-day retention when the gate was moved to level 40 (18.2%) compared to the control group when it was at level 30 (19.8%).\n",
    "\n",
    "- It's a small change, but even small changes in retention can have a large impact. But while we are certain of the difference in the data, how certain should we be that a gate at level 40 will be worse in the future?\n",
    "\n",
    "There are a couple of ways we can get at the certainty of these retention numbers. Here we will use bootstrapping."
   ]
  },
  {
   "cell_type": "markdown",
   "id": "396e8249",
   "metadata": {},
   "source": [
    "- There was a slight decline in 1-day retention when the gate was shifted to level 40, with a rate of 44.2%, compared to the control group where the gate was at level 30, with a rate of 44.8%.\n",
    "\n",
    "- Similarly, there was a decrease in 7-day retention when the gate was moved to level 40, resulting in a rate of 18.2%, compared to the control group with the gate at level 30, where the rate was 19.8%.\n",
    "\n",
    "- Although the changes observed are small, even minor alterations in retention can have significant consequences. However, while we can confidently observe the differences in the data, it remains uncertain how a level 40 gate will perform in the future.\n",
    "\n"
   ]
  },
  {
   "cell_type": "code",
   "execution_count": null,
   "id": "90abfc2f",
   "metadata": {},
   "outputs": [],
   "source": []
  },
  {
   "cell_type": "markdown",
   "id": "c0d5b14f",
   "metadata": {},
   "source": [
    "## 1-day Retention Comparison"
   ]
  },
  {
   "cell_type": "markdown",
   "id": "a147cf06",
   "metadata": {},
   "source": [
    "As observed previously, players exhibit varying behaviors, with some installing the game but never playing it, some playing only a few rounds in the first week, and others becoming highly engaged and hooked on the game. The ultimate goal is to ensure that players enjoy the game and become engrossed in it.\n"
   ]
  },
  {
   "cell_type": "markdown",
   "id": "6eebe3c4",
   "metadata": {},
   "source": [
    "#### Overall 1-day retention"
   ]
  },
  {
   "cell_type": "code",
   "execution_count": 52,
   "id": "df39bbbb",
   "metadata": {},
   "outputs": [
    {
     "data": {
      "text/plain": [
       "0.4452095044850259"
      ]
     },
     "execution_count": 52,
     "metadata": {},
     "output_type": "execute_result"
    }
   ],
   "source": [
    "df['retention_1'].mean()"
   ]
  },
  {
   "cell_type": "markdown",
   "id": "e2080e77",
   "metadata": {},
   "source": [
    "A little less than half of the players come back one day after installing the game. Now that we have a benchmark, let's look at how 1-day retention differs between the two AB-groups."
   ]
  },
  {
   "cell_type": "markdown",
   "id": "3ffe203f",
   "metadata": {},
   "source": [
    "#### 1-day retention for each A/B-group"
   ]
  },
  {
   "cell_type": "code",
   "execution_count": 53,
   "id": "294f7f03",
   "metadata": {},
   "outputs": [
    {
     "data": {
      "text/plain": [
       "version\n",
       "gate_30    0.448188\n",
       "gate_40    0.442283\n",
       "Name: retention_1, dtype: float64"
      ]
     },
     "execution_count": 53,
     "metadata": {},
     "output_type": "execute_result"
    }
   ],
   "source": [
    "df.groupby('version')['retention_1'].mean()"
   ]
  },
  {
   "cell_type": "markdown",
   "id": "83832222",
   "metadata": {},
   "source": [
    "It appears that there was a slight decrease in 1-day retention when the gate was moved to level 40 (44.2%) compared to the control when it was at level 30 (44.8%). It's a small change, but even small changes in retention can have a large impact. But while we are certain of the difference in the data, how certain should we be that a gate at level 40 will be worse in the future?\n",
    "\n",
    "There are a couple of ways we can get at the certainty of these retention numbers. Here we will use bootstrapping: We will repeatedly re-sample our dataset (with replacement) and calculate 1-day retention for those samples. The variation in 1-day retention will give us an indication of how uncertain the retention numbers are."
   ]
  },
  {
   "cell_type": "markdown",
   "id": "7e8ffebd",
   "metadata": {},
   "source": [
    "#### Bootstrapping: Should we be confident in the difference?\n"
   ]
  },
  {
   "cell_type": "code",
   "execution_count": 54,
   "id": "9fd523a2",
   "metadata": {},
   "outputs": [
    {
     "data": {
      "text/plain": [
       "<AxesSubplot:ylabel='Density'>"
      ]
     },
     "execution_count": 54,
     "metadata": {},
     "output_type": "execute_result"
    },
    {
     "data": {
      "image/png": "[encoded data removed]",
      "text/plain": [
       "<Figure size 432x288 with 1 Axes>"
      ]
     },
     "metadata": {
      "needs_background": "light"
     },
     "output_type": "display_data"
    }
   ],
   "source": [
    "# Creating an list with bootstrapped means for each AB-group\n",
    "boot_1d = []\n",
    "for i in range(1000):\n",
    "    boot_mean = df.sample(frac = 1,replace = True).groupby('version')['retention_1'].mean()\n",
    "    boot_1d.append(boot_mean)\n",
    "    \n",
    "# Transforming the list to a DataFrame\n",
    "boot_1d = pd.DataFrame(boot_1d)\n",
    "    \n",
    "# A Kernel Density Estimate plot of the bootstrap distributions\n",
    "boot_1d.plot(kind='density')"
   ]
  },
  {
   "cell_type": "markdown",
   "id": "880b76a2",
   "metadata": {},
   "source": [
    "These two distributions above represent the bootstrap uncertainty over what the underlying 1-day retention could be for the two AB-groups. \n",
    "\n",
    "There seems to be some evidence of a difference, albeit small. Let's plot the % difference to have a closer look."
   ]
  },
  {
   "cell_type": "code",
   "execution_count": 55,
   "id": "088e7979",
   "metadata": {},
   "outputs": [
    {
     "name": "stdout",
     "output_type": "stream",
     "text": [
      "Probability that 1-day retention is greater when the gate is at level 30: 0.958\n"
     ]
    },
    {
     "data": {
      "image/png": "[encoded data removed]",
      "text/plain": [
       "<Figure size 432x288 with 1 Axes>"
      ]
     },
     "metadata": {
      "needs_background": "light"
     },
     "output_type": "display_data"
    }
   ],
   "source": [
    "# Adding a column with the % difference between the two AB-groups\n",
    "boot_1d['diff'] = (boot_1d.gate_30 - boot_1d.gate_40)/boot_1d.gate_40*100\n",
    "\n",
    "# Ploting the bootstrap % difference\n",
    "ax = boot_1d['diff'].plot(kind='density')\n",
    "ax.set_title('% difference in 1-day retention between the two AB-groups')\n",
    "\n",
    "# Calculating the probability that 1-day retention is greater when the gate is at level 30\n",
    "print('Probability that 1-day retention is greater when the gate is at level 30:',(boot_1d['diff'] > 0).mean())"
   ]
  },
  {
   "cell_type": "markdown",
   "id": "8497e643",
   "metadata": {},
   "source": [
    "From this chart, we can see that the most likely % difference is around 1% - 2%, and that 96% of the distribution is above 0%, in favor of a gate at level 30."
   ]
  },
  {
   "cell_type": "code",
   "execution_count": null,
   "id": "ffdfd408",
   "metadata": {},
   "outputs": [],
   "source": []
  },
  {
   "cell_type": "markdown",
   "id": "c370a939",
   "metadata": {},
   "source": [
    "## 7-day Retention Comparison"
   ]
  },
  {
   "cell_type": "markdown",
   "id": "a34f60f8",
   "metadata": {},
   "source": [
    "The bootstrap analysis tells us that there is a high probability that 1-day retention is better when the gate is at level 30. However, since players have only been playing the game for one day, it is likely that most players haven't reached level 30 yet. That is, many players won't have been affected by the gate, even if it's as early as level 30.\n",
    "\n",
    "\n",
    "But after having played for a week, more players should have reached level 40, and therefore it makes sense to also look at 7-day retention."
   ]
  },
  {
   "cell_type": "code",
   "execution_count": 19,
   "id": "9dee01fc",
   "metadata": {},
   "outputs": [
    {
     "data": {
      "text/plain": [
       "0.1860648194347426"
      ]
     },
     "execution_count": 19,
     "metadata": {},
     "output_type": "execute_result"
    }
   ],
   "source": [
    "df['retention_7'].mean()"
   ]
  },
  {
   "cell_type": "code",
   "execution_count": 56,
   "id": "016a5e1f",
   "metadata": {},
   "outputs": [
    {
     "data": {
      "text/plain": [
       "version\n",
       "gate_30    0.190201\n",
       "gate_40    0.182000\n",
       "Name: retention_7, dtype: float64"
      ]
     },
     "execution_count": 56,
     "metadata": {},
     "output_type": "execute_result"
    }
   ],
   "source": [
    "df.groupby('version')['retention_7'].sum() / df.groupby('version')['retention_7'].count()\n"
   ]
  },
  {
   "cell_type": "markdown",
   "id": "2f619541",
   "metadata": {},
   "source": [
    "Insights:\n",
    "\n",
    "- Like with 1-day retention, 7-day retention is slightly lower when the gate is at level 40 (18.2%) than when the gate is at level 30 (19.0%).\n",
    "\n",
    "- This difference is also larger than for 1-day retention, presumably because more players have had time to hit the first gate.\n",
    "\n",
    "- The overall 7-day retention is lower than the overall 1-day retention; fewer people play a game a week after installing than a day after installing.\n",
    "\n",
    "But as before, let's use bootstrap analysis to figure out how certain we should be of the difference between the AB-groups."
   ]
  },
  {
   "cell_type": "code",
   "execution_count": 57,
   "id": "1efb2cbd",
   "metadata": {
    "scrolled": true
   },
   "outputs": [
    {
     "name": "stdout",
     "output_type": "stream",
     "text": [
      "Probability that 7-day retention is greater when the gate is at level 30: 0.998\n"
     ]
    },
    {
     "data": {
      "image/png": "[encoded data removed]",
      "text/plain": [
       "<Figure size 432x288 with 1 Axes>"
      ]
     },
     "metadata": {
      "needs_background": "light"
     },
     "output_type": "display_data"
    }
   ],
   "source": [
    "# Creating a list with bootstrapped means for each AB-group\n",
    "boot_7d = []\n",
    "for i in range(500):\n",
    "    boot_mean = df.sample(frac=1,replace=True).groupby('version')['retention_7'].mean()\n",
    "    boot_7d.append(boot_mean)\n",
    "    \n",
    "# Transforming the list to a DataFrame\n",
    "boot_7d = pd.DataFrame(boot_7d)\n",
    "\n",
    "# Adding a column with the % difference between the two AB-groups\n",
    "boot_7d['diff'] = (boot_7d.gate_30 - boot_7d.gate_40)/boot_7d.gate_40*100\n",
    "\n",
    "# Ploting the bootstrap % difference\n",
    "ax = boot_7d['diff'].plot(kind='density')\n",
    "ax.set_title('% difference in 7-day retention between the two AB-groups')\n",
    "\n",
    "# Calculating the probability that 7-day retention is greater when the gate is at level 30\n",
    "print('Probability that 7-day retention is greater when the gate is at level 30:',(boot_7d['diff'] > 0).mean())"
   ]
  },
  {
   "cell_type": "markdown",
   "id": "dab682eb",
   "metadata": {},
   "source": [
    "## Conclusion"
   ]
  },
  {
   "cell_type": "markdown",
   "id": "f394603f",
   "metadata": {},
   "source": [
    "Based on the bootstrap analysis, there is strong evidence suggesting that 7-day retention is higher when the gate is set at level 30 compared to level 40. Therefore, the conclusion is that if the goal is to maintain high retention rates, both 1-day and 7-day, it is advisable not to move the gate from level 30 to level 40.\n",
    "\n",
    "\n",
    "While there are other metrics that could be considered, such as the number of game rounds played or in-game purchases made by the two A/B groups, retention remains a crucial metric. Without retaining the player base, the amount of money spent in-game becomes irrelevant.\n",
    "\n",
    "\n",
    "Now, why is retention higher when the gate is positioned earlier? Intuitively, one might expect the opposite, assuming that the later the obstacle, the longer players will engage with the game. However, the data contradicts this expectation. The theory of hedonic adaptation provides a possible explanation.\n",
    "\n",
    "\n",
    "In simple terms, hedonic adaptation refers to the tendency for individuals to derive decreasing enjoyment from a pleasurable activity over time, especially if that activity is continuously pursued. By introducing a gate and requiring players to take a break upon reaching it, their enjoyment of the game is extended. However, when the gate is moved to level 40, fewer players reach that point, and they are more likely to quit the game due to eventual boredom."
   ]
  },
  {
   "cell_type": "code",
   "execution_count": null,
   "id": "7bab3f35",
   "metadata": {},
   "outputs": [],
   "source": []
  }
 ],
 "metadata": {
  "kernelspec": {
   "display_name": "Python 3 (ipykernel)",
   "language": "python",
   "name": "python3"
  },
  "language_info": {
   "codemirror_mode": {
    "name": "ipython",
    "version": 3
   },
   "file_extension": ".py",
   "mimetype": "text/x-python",
   "name": "python",
   "nbconvert_exporter": "python",
   "pygments_lexer": "ipython3",
   "version": "3.9.7"
  }
 },
 "nbformat": 4,
 "nbformat_minor": 5
}
